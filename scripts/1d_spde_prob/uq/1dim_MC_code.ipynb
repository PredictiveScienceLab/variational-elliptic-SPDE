{
 "cells": [
  {
   "cell_type": "markdown",
   "metadata": {},
   "source": [
    "## Comparision of  MC estimate of statistics using Fipy(ground truth) vs statistics by Deep Neural Network with 'n samples' each"
   ]
  },
  {
   "cell_type": "code",
   "execution_count": 1,
   "metadata": {},
   "outputs": [
    {
     "name": "stderr",
     "output_type": "stream",
     "text": [
      "/Users/sharmila/anaconda/lib/python2.7/site-packages/h5py/__init__.py:34: FutureWarning: Conversion of the second argument of issubdtype from `float` to `np.floating` is deprecated. In future, it will be treated as `np.float64 == np.dtype(float).type`.\n",
      "  from ._conv import register_converters as _register_converters\n",
      "Using TensorFlow backend.\n"
     ]
    }
   ],
   "source": [
    "#load libraries \n",
    "from __future__ import division\n",
    "import argparse\n",
    "\n",
    "import matplotlib\n",
    "matplotlib.use('PS')\n",
    "%matplotlib inline\n",
    "import tensorflow as tf\n",
    "import random \n",
    "import numpy as np\n",
    "import os\n",
    "os.environ['KERAS_BACKEND'] = 'tensorflow'\n",
    "from keras.models import Model\n",
    "from keras.layers import Dense, Activation, Input, concatenate, Lambda, Add\n",
    "from keras.utils import plot_model\n",
    "from keras import backend as K\n",
    "from keras.utils.generic_utils import get_custom_objects\n",
    "\n",
    "import matplotlib.pyplot as plt \n",
    "import GPy\n",
    "from fipy import *\n",
    "# import matplotlib as mpl\n",
    "# mpl.rcParams['figure.dpi']= 300\n",
    "import seaborn as sns \n",
    "sns.set_context('paper')\n",
    "sns.set_style('white')\n",
    "from pdb import set_trace as keyboard\n",
    "import sys\n",
    "import time \n",
    "# plt.rcParams[\"patch.force_edgecolor\"] = True"
   ]
  },
  {
   "cell_type": "code",
   "execution_count": 2,
   "metadata": {
    "collapsed": true
   },
   "outputs": [],
   "source": [
    "# maindir='/Users/sharmila/Desktop/research/work/03_NN_PDE/Level3/part8_image/1_Study_EF_Vs_SR_c=15_f=10'\n",
    "# Taking needed inputs and loading files\n",
    "\n",
    "# Load files\n",
    "# load cellcenters data\n",
    "cellcenters = np.load('cellcenters_nx=100.npy')\n",
    "# load MC input samples [conductivity] # these inputs are already bounded.\n",
    "MC_inputfield = np.load('MC_samples_inputfield_exp_nx=100_lx=0.03_v=1.0_num_samples=100000.npy')\n",
    "# load MC samples fipy # the below fipy file is for bounded inputs itself.\n",
    "MC_u_fipy = np.load('MC_samples_u_fipy_exp_nx=100_lx=0.03_v=1.0_num_samples=100000.npy')\n",
    "\n",
    "# DNN surrogate inputs\n",
    "############################\n",
    "DNN_type = 'Resnet'\n",
    "act_func = 'swish'\n",
    "n = 400 # Number of neurons in each block\n",
    "num_block = 3 # Number of blocks\n",
    "############################\n",
    "DNN_weights_path='my_model_weights.h5'\n"
   ]
  },
  {
   "cell_type": "code",
   "execution_count": 3,
   "metadata": {},
   "outputs": [
    {
     "name": "stdout",
     "output_type": "stream",
     "text": [
      "(100, 1)\n",
      "(100000, 100)\n",
      "(100000, 100)\n"
     ]
    }
   ],
   "source": [
    "print cellcenters.shape\n",
    "print MC_inputfield.shape\n",
    "print MC_u_fipy.shape"
   ]
  },
  {
   "cell_type": "code",
   "execution_count": 4,
   "metadata": {
    "collapsed": true
   },
   "outputs": [],
   "source": [
    "nx=cellcenters.shape[0]"
   ]
  },
  {
   "cell_type": "code",
   "execution_count": 5,
   "metadata": {},
   "outputs": [
    {
     "name": "stdout",
     "output_type": "stream",
     "text": [
      "(100, 1)\n"
     ]
    }
   ],
   "source": [
    "x_fipy=cellcenters\n",
    "print x_fipy.shape\n",
    "# print x_fipy"
   ]
  },
  {
   "cell_type": "markdown",
   "metadata": {},
   "source": [
    "### A.ground_using_fipy"
   ]
  },
  {
   "cell_type": "code",
   "execution_count": 6,
   "metadata": {},
   "outputs": [
    {
     "name": "stdout",
     "output_type": "stream",
     "text": [
      "(100000, 100)\n",
      "[[0.99527242 0.98486291 0.97094541 ... 0.05588314 0.03944935 0.02048394]\n",
      " [0.98377806 0.96564914 0.95051441 ... 0.11228727 0.07161261 0.01903423]\n",
      " [0.9707955  0.94779971 0.93535342 ... 0.05199457 0.03922144 0.01650296]\n",
      " ...\n",
      " [0.99762225 0.98990495 0.98127212 ... 0.07008059 0.04258624 0.01168542]\n",
      " [0.99400605 0.98112502 0.96863396 ... 0.14158137 0.08506876 0.02869384]\n",
      " [0.99793188 0.99208308 0.98225392 ... 0.02279205 0.01814918 0.01272935]]\n",
      "(100,)\n",
      "(100,)\n"
     ]
    }
   ],
   "source": [
    "print MC_u_fipy.shape\n",
    "print MC_u_fipy\n",
    "\n",
    "ground_mean_fipy=np.mean(MC_u_fipy,axis=0)\n",
    "ground_var_fipy=np.var(MC_u_fipy,axis=0)\n",
    "print ground_mean_fipy.shape\n",
    "print ground_var_fipy.shape"
   ]
  },
  {
   "cell_type": "code",
   "execution_count": 7,
   "metadata": {
    "scrolled": true
   },
   "outputs": [
    {
     "name": "stderr",
     "output_type": "stream",
     "text": [
      " /Users/sharmila/anaconda/lib/python2.7/site-packages/matplotlib/axes/_axes.py:545: UserWarning:No labelled objects found. Use label='...' kwarg on individual plots.\n"
     ]
    },
    {
     "data": {
      "image/png": "[encoded data removed]",
      "text/plain": [
       "<matplotlib.figure.Figure at 0x111d6db10>"
      ]
     },
     "metadata": {},
     "output_type": "display_data"
    },
    {
     "data": {
      "image/png": "[encoded data removed]",
      "text/plain": [
       "<matplotlib.figure.Figure at 0x147f7fed0>"
      ]
     },
     "metadata": {},
     "output_type": "display_data"
    }
   ],
   "source": [
    "from matplotlib import pyplot as plt\n",
    "%matplotlib inline\n",
    "plt.figure()\n",
    "\n",
    "plt.plot(x_fipy, ground_mean_fipy)\n",
    "plt.xlabel('x',fontsize = 9)\n",
    "plt.ylabel('ground_mean_fipy')\n",
    "plt.legend(loc='best')\n",
    "plt.show()\n",
    "\n",
    "plt.plot(x_fipy, ground_var_fipy)\n",
    "plt.xlabel('x')\n",
    "plt.ylabel('ground_var_fipy')\n",
    "plt.legend(loc='best')\n",
    "plt.show()"
   ]
  },
  {
   "cell_type": "code",
   "execution_count": 8,
   "metadata": {},
   "outputs": [
    {
     "name": "stdout",
     "output_type": "stream",
     "text": [
      "[0.505]\n"
     ]
    },
    {
     "data": {
      "image/png": "[encoded data removed]",
      "text/plain": [
       "<matplotlib.figure.Figure at 0x147fc1310>"
      ]
     },
     "metadata": {},
     "output_type": "display_data"
    }
   ],
   "source": [
    "## mid point x=0.505 statistics #location A\n",
    "print x_fipy[50]\n",
    "\n",
    "import matplotlib.pyplot as plt\n",
    "%matplotlib inline\n",
    "fig, ax = plt.subplots()\n",
    "ax.hist(MC_u_fipy[:,50], normed=True, alpha=0.5)\n",
    "ax.set_xlabel('$U@x=0.505$')\n",
    "ax.set_ylabel('ground_fipy_PDF')\n",
    "plt.show()"
   ]
  },
  {
   "cell_type": "markdown",
   "metadata": {},
   "source": [
    "### B.Neural_network"
   ]
  },
  {
   "cell_type": "code",
   "execution_count": 9,
   "metadata": {},
   "outputs": [
    {
     "name": "stdout",
     "output_type": "stream",
     "text": [
      "WARNING:tensorflow:From /Users/sharmila/anaconda/envs/py27/lib/python2.7/site-packages/tensorflow/python/framework/op_def_library.py:263: colocate_with (from tensorflow.python.framework.ops) is deprecated and will be removed in a future version.\n",
      "Instructions for updating:\n",
      "Colocations handled automatically by placer.\n",
      "Resnet\n"
     ]
    }
   ],
   "source": [
    "# ======================\n",
    "##giving_DNN_architecture\n",
    "# ------------------------------------------------------------\n",
    "\n",
    "# ------------------------------------------------------------\n",
    "# needs to be defined as activation class otherwise error\n",
    "# AttributeError: 'Activation' object has no attribute '__name__'    \n",
    "class Swish(Activation):\n",
    "    \n",
    "    def __init__(self, activation, **kwargs):\n",
    "        super(Swish, self).__init__(activation, **kwargs)\n",
    "        self.__name__ = 'swish'\n",
    "\n",
    "def swish(x):\n",
    "    return (K.sigmoid(x) * x)\n",
    "\n",
    "get_custom_objects().update({'swish': Swish(swish)})\n",
    "# ------------------------------------------------------------\n",
    "# BUILD DNN APPROXIMATOR\n",
    "# ======================\n",
    "# DNN network i/p:x,A o/p:prediction\n",
    "\n",
    "x = Input(shape=(1,))\n",
    "A = Input(shape=(nx,)) # input field image: conductivity image\n",
    "a_val = Input(shape=(1,)) # input field value: conductivity value at the corresponding 'input x' location\n",
    "\n",
    "if DNN_type == 'Resnet':\n",
    "    x_A = concatenate([x,A])\n",
    "    o = Dense(n)(x_A)\n",
    "    for i in range(num_block):\n",
    "        z = Dense(n, activation = act_func)(o)\n",
    "        z = Dense(n, activation = act_func)(z)\n",
    "        o = Add()([z, o])\n",
    "    prediction = Dense(1)(o)\n",
    "    print DNN_type\n",
    "\n",
    "elif DNN_type == 'FC':\n",
    "    num_neurons_per_layer = map(int, d.strip('[]').split(','))\n",
    "    x_A = concatenate([x,A])\n",
    "    z = Dense(num_neurons_per_layer[0], activation=act_func)(x_A)\n",
    "    for n in num_neurons_per_layer[1:]:\n",
    "        z = Dense(n, activation=act_func)(z)\n",
    "    prediction = Dense(1)(z)\n",
    "    print DNN_type\n",
    "\n",
    "def myFunc(t):\n",
    "    B1 = 1 # value_left\n",
    "    B2 = 0 # value_right\n",
    "    return ((B1*(1-t[0]))+(B2*t[0])+(t[0]*(1-t[0])*t[1]))\n",
    "\n",
    "u = Lambda(myFunc, output_shape=(1,))([x,prediction]) # field of interest : temperature\n",
    "model = Model(inputs=[x,A], outputs=u)\n"
   ]
  },
  {
   "cell_type": "code",
   "execution_count": 10,
   "metadata": {},
   "outputs": [
    {
     "name": "stdout",
     "output_type": "stream",
     "text": [
      "-------\n"
     ]
    }
   ],
   "source": [
    "init = tf.global_variables_initializer()\n",
    "sess = tf.Session()\n",
    "K.set_session(sess)\n",
    "sess.run(init)\n",
    "\n",
    "print('-------')\n",
    "model.load_weights(DNN_weights_path)##loading saved weights of the model\n",
    "# for layer in model.layers:\n",
    "#     g=layer.get_config()\n",
    "#     h=layer.get_weights()\n",
    "#     print (g)\n",
    "#     print (h)"
   ]
  },
  {
   "cell_type": "code",
   "execution_count": 11,
   "metadata": {},
   "outputs": [
    {
     "name": "stdout",
     "output_type": "stream",
     "text": [
      "Predicting MC sample 10000\n",
      "Predicting MC sample 20000\n",
      "Predicting MC sample 30000\n",
      "Predicting MC sample 40000\n",
      "Predicting MC sample 50000\n",
      "Predicting MC sample 60000\n",
      "Predicting MC sample 70000\n",
      "Predicting MC sample 80000\n",
      "Predicting MC sample 90000\n",
      "Predicting MC sample 100000\n",
      "Time (sec) to generate 100000 MC samples using DNN: 387.529654026\n"
     ]
    }
   ],
   "source": [
    "start = time.time()\n",
    "\n",
    "nsamples = MC_inputfield.shape[0]\n",
    "\n",
    "MC_samples_u_DNN = np.zeros((nsamples, nx))  ##evaluating at cell centers\n",
    "\n",
    "for i in xrange(nsamples):\n",
    "    #display\n",
    "    if (i+1)%10000 == 0:\n",
    "        print \"Predicting MC sample \"+str(i+1)\n",
    "        \n",
    "    a = MC_inputfield[ i , : ].reshape(-1,1)\n",
    "\n",
    "    u_DNN = sess.run(u, feed_dict={x:x_fipy, A:np.repeat(a.T, np.shape(x_fipy)[0], axis=0)})\n",
    "    MC_samples_u_DNN[i] = u_DNN.flatten()\n",
    "    \n",
    "finish = time.time() - start\n",
    "print \"Time (sec) to generate \"+str(MC_inputfield.shape[0])+\" MC samples using DNN: \" +str(finish)\n",
    "\n",
    "np.save('MC_samples_u_DNN_exp_nx=32_lx=0.03_v=1.0_num_samples=100000.npy',MC_samples_u_DNN)"
   ]
  },
  {
   "cell_type": "code",
   "execution_count": 7,
   "metadata": {
    "collapsed": true
   },
   "outputs": [],
   "source": [
    "MC_u_DNN = np.load('MC_samples_u_DNN_exp_nx=32_lx=0.03_v=1.0_num_samples=100000.npy')"
   ]
  },
  {
   "cell_type": "code",
   "execution_count": 8,
   "metadata": {},
   "outputs": [
    {
     "name": "stdout",
     "output_type": "stream",
     "text": [
      "(100000, 100)\n",
      "[[0.99445993 0.98335016 0.9675951  ... 0.06321403 0.04315139 0.0190756 ]\n",
      " [0.98092037 0.95709372 0.93710876 ... 0.12162387 0.0919923  0.04058639]\n",
      " [0.97740895 0.94892085 0.93227929 ... 0.05346271 0.03981263 0.01717497]\n",
      " ...\n",
      " [0.99494785 0.98638296 0.97981727 ... 0.06951216 0.04883092 0.02046742]\n",
      " [0.99343169 0.98231971 0.9724462  ... 0.18869738 0.1287284  0.04921973]\n",
      " [0.9960556  0.9876188  0.97511494 ... 0.01791025 0.01344753 0.00727465]]\n",
      "(100,)\n",
      "(100,)\n"
     ]
    }
   ],
   "source": [
    "print MC_u_DNN.shape\n",
    "print MC_u_DNN\n",
    "\n",
    "mean_DNN = np.mean(MC_u_DNN,axis=0)\n",
    "var_DNN = np.var(MC_u_DNN,axis=0)\n",
    "print mean_DNN.shape\n",
    "print var_DNN.shape"
   ]
  },
  {
   "cell_type": "code",
   "execution_count": 9,
   "metadata": {},
   "outputs": [
    {
     "name": "stderr",
     "output_type": "stream",
     "text": [
      " /Users/sharmila/anaconda/lib/python2.7/site-packages/matplotlib/axes/_axes.py:545: UserWarning:No labelled objects found. Use label='...' kwarg on individual plots.\n"
     ]
    },
    {
     "data": {
      "image/png": "[encoded data removed]",
      "text/plain": [
       "<matplotlib.figure.Figure at 0x10b8d1b50>"
      ]
     },
     "metadata": {},
     "output_type": "display_data"
    },
    {
     "data": {
      "image/png": "[encoded data removed]",
      "text/plain": [
       "<matplotlib.figure.Figure at 0x14127dd90>"
      ]
     },
     "metadata": {},
     "output_type": "display_data"
    }
   ],
   "source": [
    "from matplotlib import pyplot as plt\n",
    "%matplotlib inline\n",
    "plt.figure()\n",
    "\n",
    "plt.plot(x_fipy, mean_DNN, 'blue', lw=1.5)\n",
    "plt.xlabel('x')\n",
    "plt.ylabel('mean_DNN')\n",
    "plt.legend(loc='best')\n",
    "plt.show()\n",
    "\n",
    "plt.plot(x_fipy,var_DNN, 'blue', lw=1.5)\n",
    "plt.xlabel('x')\n",
    "plt.ylabel('var_DNN')\n",
    "plt.legend(loc='best')\n",
    "plt.show()"
   ]
  },
  {
   "cell_type": "code",
   "execution_count": 12,
   "metadata": {},
   "outputs": [
    {
     "name": "stdout",
     "output_type": "stream",
     "text": [
      "[0.505]\n"
     ]
    },
    {
     "data": {
      "image/png": "[encoded data removed]",
      "text/plain": [
       "<matplotlib.figure.Figure at 0x14a0958d0>"
      ]
     },
     "metadata": {},
     "output_type": "display_data"
    }
   ],
   "source": [
    "## mid point x=0.505 statistics #location A\n",
    "print x_fipy[50]\n",
    "\n",
    "import matplotlib.pyplot as plt\n",
    "%matplotlib inline\n",
    "fig, ax = plt.subplots()\n",
    "ax.hist(MC_u_DNN[:,50], normed=True, alpha=0.5)\n",
    "ax.set_xlabel('$U@x=0.505$')\n",
    "ax.set_ylabel('DNN_PDF')\n",
    "plt.show()"
   ]
  },
  {
   "cell_type": "markdown",
   "metadata": {},
   "source": [
    "### C.Comparing Fipy vs NN"
   ]
  },
  {
   "cell_type": "code",
   "execution_count": 16,
   "metadata": {},
   "outputs": [
    {
     "data": {
      "image/png": "[encoded data removed]",
      "text/plain": [
       "<matplotlib.figure.Figure at 0x14748bd90>"
      ]
     },
     "metadata": {},
     "output_type": "display_data"
    }
   ],
   "source": [
    "from matplotlib import pyplot as plt\n",
    "%matplotlib inline\n",
    "plt.figure(figsize=(10,6))\n",
    "# plt.figure(figsize=(6,4))\n",
    "\n",
    "# plt.scatter(x_fipy, ground_mean_fipy, cmap='Greens') ##ground_fipy\n",
    "\n",
    "ground_fipy,= plt.plot(x_fipy,  ground_mean_fipy,'g^',lw=2)##ground_fipy\n",
    "neural_network,= plt.plot(x_fipy, mean_DNN,'r--',lw=2)##neural network\n",
    "\n",
    "plt.legend([ground_fipy,neural_network], ['FVM','DNN'], fontsize = 16) \n",
    "plt.xlabel('$x$', fontsize = 16) \n",
    "plt.ylabel('$mean$', fontsize = 16) \n",
    "plt.tight_layout()\n",
    "plt.savefig(os.path.join(os.getcwd(),'mean_fipy_vs_DNN.pdf'))\n",
    "plt.show()"
   ]
  },
  {
   "cell_type": "code",
   "execution_count": 17,
   "metadata": {},
   "outputs": [
    {
     "data": {
      "image/png": "[encoded data removed]",
      "text/plain": [
       "<matplotlib.figure.Figure at 0x147606c90>"
      ]
     },
     "metadata": {},
     "output_type": "display_data"
    }
   ],
   "source": [
    "from matplotlib import pyplot as plt\n",
    "%matplotlib inline\n",
    "plt.figure(figsize=(10,6))\n",
    "# plt.figure(figsize=(6,4))\n",
    "\n",
    "# plt.scatter(x_fipy, ground_var_fipy, cmap='Greens') ##ground_fipy\n",
    "\n",
    "ground_fipy,= plt.plot(x_fipy,  ground_var_fipy,'g^',lw=2)##ground_fipy\n",
    "neural_network,= plt.plot(x_fipy, var_DNN,'r--',lw=2)##neural network\n",
    "\n",
    "plt.legend([ground_fipy,neural_network], ['FVM','DNN'], fontsize = 16) \n",
    "plt.xlabel('$x$', fontsize = 16) \n",
    "plt.ylabel('$variance$', fontsize = 16) \n",
    "plt.tight_layout()\n",
    "plt.savefig(os.path.join(os.getcwd(),'variance_fipy_vs_DNN.pdf'))\n",
    "plt.show()"
   ]
  },
  {
   "cell_type": "code",
   "execution_count": 10,
   "metadata": {},
   "outputs": [
    {
     "name": "stderr",
     "output_type": "stream",
     "text": [
      " /Users/sharmila/anaconda/envs/py27/lib/python2.7/site-packages/scipy/stats/stats.py:1713: FutureWarning:Using a non-tuple sequence for multidimensional indexing is deprecated; use `arr[tuple(seq)]` instead of `arr[seq]`. In the future this will be interpreted as an array index, `arr[np.array(seq)]`, which will result either in an error or a different result.\n"
     ]
    },
    {
     "data": {
      "image/png": "[encoded data removed]",
      "text/plain": [
       "<matplotlib.figure.Figure at 0x12df12590>"
      ]
     },
     "metadata": {},
     "output_type": "display_data"
    }
   ],
   "source": [
    "# plt.rcParams.update({'font.size': 30})\n",
    "plt.rc('legend', fontsize=16) \n",
    "fig, ax = plt.subplots(figsize=(10,6))\n",
    "# fig, ax = plt.subplots(figsize=(6,4))\n",
    "sns.distplot(MC_u_fipy[:,50], bins =100, norm_hist = True,label='FVM', color=\"green\", kde_kws=dict(linewidth=2),hist=False, hist_kws=dict(fill=False))\n",
    "sns.distplot(MC_u_DNN[:,50], bins =100, norm_hist = True,label='DNN',color=\"red\", kde_kws=dict(linewidth=2),hist=False, hist_kws=dict(fill=False))\n",
    "ax.set_xlabel(r'$U(x=0.505)$', fontsize = 16)\n",
    "ax.set_ylabel('$PDF$', fontsize = 16)\n",
    "plt.legend(loc=\"best\")\n",
    "plt.tight_layout()\n",
    "plt.savefig(os.path.join(os.getcwd(),'PDF@x=locA_fipy_vs_DNN.pdf'))"
   ]
  },
  {
   "cell_type": "markdown",
   "metadata": {},
   "source": [
    "##### Relative L2 Error\n",
    "Let $\\mathbf{y}_{\\mbox{true}}$ be the *ground truth vector* from fipy and $\\hat{\\mathbf{y}}$ be the *estimated vector* from neural network.\n",
    "The relattive L2 error is defined to be:\n",
    "$$\n",
    "L_2[\\mathbf{y}_{\\mbox{true}},\\hat{\\mathbf{y}}] = \\frac{\\parallel\\mathbf{y}_{\\mbox{true}}-\\hat{\\mathbf{y}} \\parallel_2}{\\parallel \\mathbf{y}_{\\mbox{true}}\\parallel_2},\n",
    "$$\n",
    "where $\\parallel\\cdot\\parallel_2$ is the standard Euclidean norm."
   ]
  },
  {
   "cell_type": "code",
   "execution_count": 19,
   "metadata": {},
   "outputs": [
    {
     "name": "stdout",
     "output_type": "stream",
     "text": [
      "0.009728367562234684\n",
      "0.09950354625742819\n"
     ]
    }
   ],
   "source": [
    "## Relative L2 error in the mean and variance\n",
    "y_true_mean=ground_mean_fipy\n",
    "y_true_var=ground_var_fipy\n",
    "\n",
    "y_cap_mean = mean_DNN\n",
    "y_cap_var = var_DNN\n",
    "\n",
    "L2_mean=(np.linalg.norm(y_true_mean-y_cap_mean) / np.linalg.norm(y_true_mean))\n",
    "L2_var=(np.linalg.norm(y_true_var-y_cap_var) / np.linalg.norm(y_true_var))\n",
    "\n",
    "print L2_mean\n",
    "print L2_var "
   ]
  },
  {
   "cell_type": "code",
   "execution_count": 20,
   "metadata": {},
   "outputs": [
    {
     "name": "stdout",
     "output_type": "stream",
     "text": [
      "0.9992971988427748\n",
      "0.970365475511299\n"
     ]
    }
   ],
   "source": [
    "from sklearn.metrics import r2_score\n",
    "print r2_score(y_true_mean,y_cap_mean) \n",
    "print r2_score(y_true_var,y_cap_var)"
   ]
  },
  {
   "cell_type": "code",
   "execution_count": null,
   "metadata": {
    "collapsed": true
   },
   "outputs": [],
   "source": []
  },
  {
   "cell_type": "code",
   "execution_count": 21,
   "metadata": {
    "collapsed": true
   },
   "outputs": [],
   "source": [
    "### checking"
   ]
  },
  {
   "cell_type": "code",
   "execution_count": 22,
   "metadata": {},
   "outputs": [
    {
     "name": "stdout",
     "output_type": "stream",
     "text": [
      "*******\n",
      "*******\n",
      "[]\n",
      "0\n"
     ]
    }
   ],
   "source": [
    "# checking\n",
    "print('*******')\n",
    "h=[]\n",
    "for i in xrange(MC_u_DNN.shape[0]):\n",
    "    j=np.amax(MC_u_DNN[i,:])\n",
    "    if j>=1.05:\n",
    "        print j\n",
    "        h.append(i)\n",
    "print('*******')\n",
    "print h\n",
    "print len(h)\n",
    "    "
   ]
  },
  {
   "cell_type": "code",
   "execution_count": 23,
   "metadata": {},
   "outputs": [
    {
     "name": "stdout",
     "output_type": "stream",
     "text": [
      "99999\n",
      "--------------------------------------------------------------\n"
     ]
    }
   ],
   "source": [
    "for i in range(len(h)): # test cases\n",
    "    print h[i]\n",
    "###############################################################\n",
    "    #FIPY solution\n",
    "    value_left = 1\n",
    "    value_right = 0\n",
    "\n",
    "    Lx = 1.  # always put . after 1 \n",
    "\n",
    "    # define mesh\n",
    "    mesh = Grid1D(nx=nx, dx=Lx/nx) # with nx number of cells/cellcenters/pixels/pixelcenters\n",
    "    \n",
    "    # define cell and face variables\n",
    "    phi = CellVariable(name='$T(x)$', mesh=mesh, value=0.)\n",
    "    D = CellVariable(name='$D(x)$', mesh=mesh, value=1.0) ## coefficient in diffusion equation\n",
    "    # D = FaceVariable(name='$D(x)$', mesh=mesh, value=1.0) ## coefficient in diffusion equation\n",
    "    source = CellVariable(name='$f(x)$', mesh=mesh, value=1.0)\n",
    "    C = CellVariable(name='$C(x)$', mesh=mesh, value=1.0)\n",
    "\n",
    "    # apply boundary conditions\n",
    "    # dirichet\n",
    "    phi.constrain(value_left, mesh.facesLeft)\n",
    "    phi.constrain(value_right, mesh.facesRight)\n",
    "    \n",
    "    # setup the diffusion problem\n",
    "    eq = -DiffusionTerm(coeff=D)+ImplicitSourceTerm(coeff=C) == source\n",
    "\n",
    "    c=15\n",
    "    f=10\n",
    "    source.setValue(f)\n",
    "    C.setValue(c)\n",
    "\n",
    "    # getting input field images\n",
    "    a = MC_inputfield[ h[i] , : ].reshape(-1,1)\n",
    "    # 'a' is one image of input field: conductivity image of nx cells/cellcenters/pixels/pixelcenters from test_data #returns (nx,1) matrix \n",
    "    D.setValue(a.ravel())\n",
    "\n",
    "    eq.solve(var=phi)\n",
    "    x_fipy = mesh.cellCenters.value.T ## fipy solution (nx,1) matrix # same as cellcenters defined above\n",
    "    u_fipy = phi.value[:][:, None] ## fipy solution  (nx,1) matrix\n",
    "\n",
    "    # x_face=mesh.faceCenters.value.flatten() #cell faces location i.e.edges of the element \n",
    "    # y_face=phi.faceValue()                  #cell faces location i.e.edges of the element\n",
    "    \n",
    "    # print ('done1')\n",
    "###############################################################\n",
    "    #Neuralnet solution\n",
    "    u_DNN = sess.run(u, feed_dict={x:x_fipy, A:np.repeat(a.T, np.shape(x_fipy)[0], axis=0)})\n",
    "    # print ('done2')\n",
    "###############################################################\n",
    "#     val.append(np.sum((u_fipy-u_DNN)**2, axis=0)) \n",
    "#     rel_RMS_num.append(np.sum((u_fipy-u_DNN)**2, axis=0))\n",
    "#     rel_RMS_den.append(np.sum((u_fipy)**2, axis=0))\n",
    "###############################################################\n",
    "    from sklearn import metrics\n",
    "    r2score = metrics.r2_score(u_fipy.flatten(), u_DNN.flatten()) \n",
    "    relerror = np.linalg.norm(u_fipy.flatten() - u_DNN.flatten()) / np.linalg.norm(u_fipy.flatten())\n",
    "    r2score = float('%.4f'%r2score)\n",
    "    relerror = float('%.4f'%relerror)\n",
    "#     relerrors.append(relerror)\n",
    "#     r2scores.append(r2score)   \n",
    "###############################################################\n",
    "#     samples_inputfield[i] = a.ravel()\n",
    "#     samples_u_DNN[i] = u_DNN.flatten()\n",
    "#     samples_u_fipy[i] = u_fipy.flatten()   \n",
    "###############################################################\n",
    "    if i<=20:\n",
    "        # Initialize the plot\n",
    "        fig = plt.figure(figsize=(15,7))\n",
    "        \n",
    "        try:\n",
    "            ax1.lines.remove(lines[0])\n",
    "            ax2.lines.remove(lines[0])\n",
    "            lines2.set_visible(False)\n",
    "        except:\n",
    "            pass\n",
    "        ##########\n",
    "        ax1 = fig.add_subplot(1, 2, 1)\n",
    "        ax1.plot(x_fipy, np.log(a), 'g', lw=1.5, label='log(Input field)')\n",
    "        ax1.set_xlabel('$x$',  fontsize=14)\n",
    "        ax1.set_ylabel('log(Input field)', fontsize=14)\n",
    "        ##########\n",
    "        ax2 = fig.add_subplot(1, 2, 2)\n",
    "        lines = ax2.plot(x_fipy, u_DNN, 'r', lw=1.5,  label='DNN solution')\n",
    "        # lines2 = ax2.plot(x_fipy, u_fipy, 'b', lw=2)\n",
    "        # lines2 = plt.scatter(x_fipy, u_fipy, s=10, cmap='Greens', label='FVM solution')\n",
    "        lines2 = ax2.scatter(x_fipy, u_fipy, s=25, cmap='Greens',label='FVM solution')\n",
    "        plt.title('Rel. $L_2$ Error ='+str(relerror)+', $R^{2}$ = '+str(r2score), fontsize=14)\n",
    "\n",
    "        ax2.set_xlabel('$x$',  fontsize=14)\n",
    "        ax2.set_ylabel(r'$\\hat{u}$', fontsize=14)\n",
    "        plt.legend(loc='best')\n",
    "        plt.tight_layout()\n",
    "        ##########\n",
    "\n",
    "        # plt.suptitle('test_case='+str(i+1)+'_DNN_type='+str(DNN_type)+'_nx='+str(nx)+'_seed='+str(seed)+'_'+str(variation), fontsize=12)\n",
    "#         plt.savefig(os.path.join(resultdir,'test_case='+str(i+1)+'_DNN_type='+str(DNN_type)+'_nx='+str(nx)+'_seed='+str(seed)+'_'+str(variation)+'_nnpred-fipy.pdf'))\n",
    "        plt.show()          \n",
    "print i\n",
    "print (\"--------------------------------------------------------------\")\n",
    "####################################################################################################################\n",
    "plt.close('all')"
   ]
  },
  {
   "cell_type": "code",
   "execution_count": null,
   "metadata": {
    "collapsed": true
   },
   "outputs": [],
   "source": []
  }
 ],
 "metadata": {
  "kernelspec": {
   "display_name": "Python 2",
   "language": "python",
   "name": "python2"
  },
  "language_info": {
   "codemirror_mode": {
    "name": "ipython",
    "version": 2
   },
   "file_extension": ".py",
   "mimetype": "text/x-python",
   "name": "python",
   "nbconvert_exporter": "python",
   "pygments_lexer": "ipython2",
   "version": "2.7.13"
  }
 },
 "nbformat": 4,
 "nbformat_minor": 2
}
